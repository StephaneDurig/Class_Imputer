{
 "cells": [
  {
   "cell_type": "code",
   "execution_count": 5,
   "metadata": {},
   "outputs": [],
   "source": [
    "class Imputer():\n",
    "    def __init__(self, data_liste) :\n",
    "        self.liste=data_liste\n",
    "\n",
    "    def fill_average(self):\n",
    "\n",
    "        sum=0\n",
    "        count=0\n",
    "        liste_depart=[]\n",
    "\n",
    "        for elt in self.liste:\n",
    "            \n",
    "            liste_depart.append(elt)\n",
    "\n",
    "            if elt !=None:\n",
    "                sum += elt\n",
    "                count += 1\n",
    "\n",
    "        average=sum/count\n",
    "\n",
    "        for i in range(len(self.liste)):\n",
    "\n",
    "            if self.liste[i] == None:\n",
    "                self.liste[i]=average\n",
    "        \n",
    "        print(f'la liste de départ      : {liste_depart}')\n",
    "        print(f'la liste modifiée (moy) : {self.liste}')\n",
    "\n",
    "    def fill_median(self):\n",
    "\n",
    "        liste_depart=[]\n",
    "        liste_tampon=[]\n",
    "\n",
    "        for elt in self.liste:\n",
    "            liste_depart.append(elt)\n",
    "            \n",
    "            if elt !=None:\n",
    "                liste_tampon.append(elt)\n",
    "            liste_tampon.sort()\n",
    "        \n",
    "        count=len(liste_tampon)\n",
    "\n",
    "        for i in range(len(liste_tampon)):\n",
    "\n",
    "            if count%2==1:\n",
    "                rang=(count+1)//2\n",
    "                median=liste_tampon[rang-1] # !! -1 car les index commencent à 0 !!\n",
    "            else:\n",
    "                rang=count//2\n",
    "                # rang1=rang+1\n",
    "                median=(liste_tampon[rang]+liste_tampon[rang-1])/2  # !! les index commencent à 0 !!\n",
    "                # median=(liste_tampon[rang1]+liste_tampon[rang])/2  # !! les index commencent à 0 !!\n",
    "\n",
    "        for i in range(len(self.liste)):\n",
    "\n",
    "            if self.liste[i] == None:\n",
    "                self.liste[i]=median\n",
    "\n",
    "        print(f'la liste de départ      : {liste_depart}')\n",
    "        print(f'la liste modifiée (median) : {self.liste}')"
   ]
  },
  {
   "cell_type": "code",
   "execution_count": 6,
   "metadata": {},
   "outputs": [
    {
     "name": "stdout",
     "output_type": "stream",
     "text": [
      "la liste de départ      : [None, 2, 3, 12, 5, 6, None]\n",
      "la liste modifiée (moy) : [5.6, 2, 3, 12, 5, 6, 5.6]\n"
     ]
    }
   ],
   "source": [
    "I=Imputer([None, 2, 3, 12, 5, 6, None])\n",
    "I.fill_average()"
   ]
  },
  {
   "cell_type": "code",
   "execution_count": 7,
   "metadata": {},
   "outputs": [
    {
     "name": "stdout",
     "output_type": "stream",
     "text": [
      "la liste de départ      : [None, 2, 3, 12, 5, 6, None]\n",
      "la liste modifiée (median) : [5, 2, 3, 12, 5, 6, 5]\n"
     ]
    }
   ],
   "source": [
    "I=Imputer([None, 2, 3, 12, 5, 6, None])\n",
    "I.fill_median()"
   ]
  },
  {
   "cell_type": "code",
   "execution_count": 8,
   "metadata": {},
   "outputs": [
    {
     "name": "stdout",
     "output_type": "stream",
     "text": [
      "la liste de départ      : [None, 2, 3, 12, 5, 6, 13, None]\n",
      "la liste modifiée (median) : [5.5, 2, 3, 12, 5, 6, 13, 5.5]\n"
     ]
    }
   ],
   "source": [
    "I=Imputer([None, 2, 3, 12, 5, 6, 13, None])\n",
    "I.fill_median()"
   ]
  }
 ],
 "metadata": {
  "kernelspec": {
   "display_name": "base",
   "language": "python",
   "name": "python3"
  },
  "language_info": {
   "codemirror_mode": {
    "name": "ipython",
    "version": 3
   },
   "file_extension": ".py",
   "mimetype": "text/x-python",
   "name": "python",
   "nbconvert_exporter": "python",
   "pygments_lexer": "ipython3",
   "version": "3.9.13"
  },
  "orig_nbformat": 4
 },
 "nbformat": 4,
 "nbformat_minor": 2
}
